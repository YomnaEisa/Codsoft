{
 "cells": [
  {
   "cell_type": "code",
   "execution_count": 20,
   "id": "659a90e7",
   "metadata": {},
   "outputs": [],
   "source": [
    "# Importing libraries\n",
    "import pandas as pd\n",
    "import xgboost as xgb\n",
    "from sklearn.metrics import classification_report, accuracy_score"
   ]
  },
  {
   "cell_type": "code",
   "execution_count": 11,
   "id": "89fe00a4",
   "metadata": {},
   "outputs": [],
   "source": [
    "# Read the dataset \n",
    "df = pd.read_csv('C:/Users/yomna/codsoft/CreditCardFraudDetection/Dataset/card_balanced_data.csv')"
   ]
  },
  {
   "cell_type": "code",
   "execution_count": 28,
   "id": "206167ba",
   "metadata": {},
   "outputs": [
    {
     "name": "stdout",
     "output_type": "stream",
     "text": [
      "Accuracy: 0.934010152284264\n",
      "Classification Report:\n",
      "              precision    recall  f1-score   support\n",
      "\n",
      "           0       0.91      0.96      0.94        99\n",
      "           1       0.96      0.91      0.93        98\n",
      "\n",
      "    accuracy                           0.93       197\n",
      "   macro avg       0.94      0.93      0.93       197\n",
      "weighted avg       0.94      0.93      0.93       197\n",
      "\n"
     ]
    }
   ],
   "source": [
    "# Selecting Features\n",
    "X = df.drop(columns=['Class'])\n",
    "y = df['Class']\n",
    "\n",
    "# Splitting the data set for testing and training\n",
    "X_train, X_test, y_train, y_test = train_test_split(X, y, test_size=0.2, random_state=42)\n",
    "\n",
    "# Initializing the model\n",
    "xgb_model = xgb.XGBClassifier()\n",
    "\n",
    "# Fitting the model\n",
    "xgb_model.fit(X_train, y_train)\n",
    "\n",
    "# Creating predictions\n",
    "y_pred = xgb_model.predict(X_test)\n",
    "\n",
    "# Evaluating the model's preformance\n",
    "accuracy = accuracy_score(y_test, y_pred)\n",
    "report = classification_report(y_test, y_pred)\n",
    "\n",
    "print(f\"Accuracy: {accuracy}\")\n",
    "print(f\"Classification Report:\\n{report}\")"
   ]
  },
  {
   "cell_type": "code",
   "execution_count": null,
   "id": "95a1a361",
   "metadata": {},
   "outputs": [],
   "source": []
  }
 ],
 "metadata": {
  "kernelspec": {
   "display_name": "Python 3 (ipykernel)",
   "language": "python",
   "name": "python3"
  },
  "language_info": {
   "codemirror_mode": {
    "name": "ipython",
    "version": 3
   },
   "file_extension": ".py",
   "mimetype": "text/x-python",
   "name": "python",
   "nbconvert_exporter": "python",
   "pygments_lexer": "ipython3",
   "version": "3.11.0"
  }
 },
 "nbformat": 4,
 "nbformat_minor": 5
}
