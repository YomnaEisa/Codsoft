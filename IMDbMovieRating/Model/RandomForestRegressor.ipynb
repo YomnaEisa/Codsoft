{
 "cells": [
  {
   "cell_type": "code",
   "execution_count": 45,
   "id": "1f94e591",
   "metadata": {},
   "outputs": [],
   "source": [
    "# Importing libraries\n",
    "from sklearn.ensemble import RandomForestRegressor\n",
    "from sklearn.model_selection import train_test_split\n",
    "from sklearn.metrics import mean_squared_error"
   ]
  },
  {
   "cell_type": "code",
   "execution_count": 49,
   "id": "f747953d",
   "metadata": {},
   "outputs": [
    {
     "name": "stdout",
     "output_type": "stream",
     "text": [
      "Mean Absolute Error: 0.6332429363054058\n",
      "Mean Squared Error: 0.9798052718661854\n",
      "R-squared: 0.25336095173977247\n"
     ]
    }
   ],
   "source": [
    "# Read the dataset \n",
    "df = pd.read_csv('C:/Users/yomna/codsoft/IMDbMovieRating/Dataset/Movie_cleaned_data.csv')\n",
    "\n",
    "# Sampling half of the dataset\n",
    "random_seed = 42\n",
    "sampled_df = df.sample(frac=0.5, random_state=random_seed)\n",
    "\n",
    "# Applying one-hot encoding\n",
    "columns_to_encode = ['Name', 'Genre','Director','Actor 1', 'Actor 2', 'Actor 3']\n",
    "df_encoded = pd.get_dummies(sampled_df, columns=columns_to_encode, drop_first=True)\n",
    "\n",
    "# Changing datatype from float64 to float32 for memory\n",
    "df_encoded['Duration'] = df_encoded['Duration'].astype('float32')\n",
    "df_encoded['Rating'] = df_encoded['Rating'].astype('float32')\n",
    "\n",
    "# Selecting Features\n",
    "X = df_encoded.drop(['Rating'], axis=1)\n",
    "y = df_encoded['Rating']\n",
    "\n",
    "# Splitting the data set for testing and training\n",
    "X_train, X_test, y_train, y_test = train_test_split(X, y, test_size=0.2, random_state=42)\n",
    "\n",
    "# Initalizing the model\n",
    "model = RandomForestRegressor(n_estimators=100, random_state=42)\n",
    "\n",
    "# Training the model\n",
    "model.fit(X_train, y_train)\n",
    "\n",
    "# Making predictions\n",
    "y_pred = model.predict(X_test)\n",
    "\n",
    "# Evaluating the model\n",
    "mae = mean_absolute_error(y_test, y_pred)\n",
    "mse = mean_squared_error(y_test, y_pred)\n",
    "r2 = r2_score(y_test, y_pred)\n",
    "\n",
    "# Printing the evaluation\n",
    "print(f'Mean Absolute Error: {mae}')\n",
    "print(f'Mean Squared Error: {mse}')\n",
    "print(f'R-squared: {r2}')"
   ]
  },
  {
   "cell_type": "code",
   "execution_count": null,
   "id": "131aab6d",
   "metadata": {},
   "outputs": [],
   "source": []
  }
 ],
 "metadata": {
  "kernelspec": {
   "display_name": "Python 3 (ipykernel)",
   "language": "python",
   "name": "python3"
  },
  "language_info": {
   "codemirror_mode": {
    "name": "ipython",
    "version": 3
   },
   "file_extension": ".py",
   "mimetype": "text/x-python",
   "name": "python",
   "nbconvert_exporter": "python",
   "pygments_lexer": "ipython3",
   "version": "3.11.0"
  }
 },
 "nbformat": 4,
 "nbformat_minor": 5
}
