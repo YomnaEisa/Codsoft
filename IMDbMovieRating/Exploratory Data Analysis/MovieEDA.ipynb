{
 "cells": [
  {
   "cell_type": "markdown",
   "id": "d63eca7a",
   "metadata": {},
   "source": [
    "# Welcome to the IMDb Movie Rating Prediction project!\n",
    "\n",
    "The dataset for this project originates from IMDb.com and contains a comprehensive collection of Indian movies available on the platform alongside important information about them to find valuable insights.\n",
    "\n",
    "The primary objective of this exploratory data analysis is to uncover trends, patterns, and insights within the dataset. Through analysis, we aim to gain a deeper understanding of the Indian movie landscape, enabling us to draw valuable conclusions and predict the rating of Indian movies."
   ]
  },
  {
   "cell_type": "code",
   "execution_count": 1,
   "id": "1b54ffad",
   "metadata": {},
   "outputs": [],
   "source": [
    "# Importing libraries\n",
    "import pandas as pd\n",
    "import matplotlib.pyplot as plt\n",
    "import numpy as np\n",
    "import seaborn as sns"
   ]
  },
  {
   "cell_type": "code",
   "execution_count": 2,
   "id": "afcfbf61",
   "metadata": {},
   "outputs": [
    {
     "data": {
      "text/html": [
       "<div>\n",
       "<style scoped>\n",
       "    .dataframe tbody tr th:only-of-type {\n",
       "        vertical-align: middle;\n",
       "    }\n",
       "\n",
       "    .dataframe tbody tr th {\n",
       "        vertical-align: top;\n",
       "    }\n",
       "\n",
       "    .dataframe thead th {\n",
       "        text-align: right;\n",
       "    }\n",
       "</style>\n",
       "<table border=\"1\" class=\"dataframe\">\n",
       "  <thead>\n",
       "    <tr style=\"text-align: right;\">\n",
       "      <th></th>\n",
       "      <th>Name</th>\n",
       "      <th>Year</th>\n",
       "      <th>Duration</th>\n",
       "      <th>Genre</th>\n",
       "      <th>Rating</th>\n",
       "      <th>Votes</th>\n",
       "      <th>Director</th>\n",
       "      <th>Actor 1</th>\n",
       "      <th>Actor 2</th>\n",
       "      <th>Actor 3</th>\n",
       "    </tr>\n",
       "  </thead>\n",
       "  <tbody>\n",
       "    <tr>\n",
       "      <th>0</th>\n",
       "      <td></td>\n",
       "      <td>NaN</td>\n",
       "      <td>NaN</td>\n",
       "      <td>Drama</td>\n",
       "      <td>NaN</td>\n",
       "      <td>NaN</td>\n",
       "      <td>J.S. Randhawa</td>\n",
       "      <td>Manmauji</td>\n",
       "      <td>Birbal</td>\n",
       "      <td>Rajendra Bhatia</td>\n",
       "    </tr>\n",
       "    <tr>\n",
       "      <th>1</th>\n",
       "      <td>#Gadhvi (He thought he was Gandhi)</td>\n",
       "      <td>(2019)</td>\n",
       "      <td>109 min</td>\n",
       "      <td>Drama</td>\n",
       "      <td>7.0</td>\n",
       "      <td>8</td>\n",
       "      <td>Gaurav Bakshi</td>\n",
       "      <td>Rasika Dugal</td>\n",
       "      <td>Vivek Ghamande</td>\n",
       "      <td>Arvind Jangid</td>\n",
       "    </tr>\n",
       "    <tr>\n",
       "      <th>2</th>\n",
       "      <td>#Homecoming</td>\n",
       "      <td>(2021)</td>\n",
       "      <td>90 min</td>\n",
       "      <td>Drama, Musical</td>\n",
       "      <td>NaN</td>\n",
       "      <td>NaN</td>\n",
       "      <td>Soumyajit Majumdar</td>\n",
       "      <td>Sayani Gupta</td>\n",
       "      <td>Plabita Borthakur</td>\n",
       "      <td>Roy Angana</td>\n",
       "    </tr>\n",
       "    <tr>\n",
       "      <th>3</th>\n",
       "      <td>#Yaaram</td>\n",
       "      <td>(2019)</td>\n",
       "      <td>110 min</td>\n",
       "      <td>Comedy, Romance</td>\n",
       "      <td>4.4</td>\n",
       "      <td>35</td>\n",
       "      <td>Ovais Khan</td>\n",
       "      <td>Prateik</td>\n",
       "      <td>Ishita Raj</td>\n",
       "      <td>Siddhant Kapoor</td>\n",
       "    </tr>\n",
       "    <tr>\n",
       "      <th>4</th>\n",
       "      <td>...And Once Again</td>\n",
       "      <td>(2010)</td>\n",
       "      <td>105 min</td>\n",
       "      <td>Drama</td>\n",
       "      <td>NaN</td>\n",
       "      <td>NaN</td>\n",
       "      <td>Amol Palekar</td>\n",
       "      <td>Rajat Kapoor</td>\n",
       "      <td>Rituparna Sengupta</td>\n",
       "      <td>Antara Mali</td>\n",
       "    </tr>\n",
       "  </tbody>\n",
       "</table>\n",
       "</div>"
      ],
      "text/plain": [
       "                                 Name    Year Duration            Genre  \\\n",
       "0                                         NaN      NaN            Drama   \n",
       "1  #Gadhvi (He thought he was Gandhi)  (2019)  109 min            Drama   \n",
       "2                         #Homecoming  (2021)   90 min   Drama, Musical   \n",
       "3                             #Yaaram  (2019)  110 min  Comedy, Romance   \n",
       "4                   ...And Once Again  (2010)  105 min            Drama   \n",
       "\n",
       "   Rating Votes            Director       Actor 1             Actor 2  \\\n",
       "0     NaN   NaN       J.S. Randhawa      Manmauji              Birbal   \n",
       "1     7.0     8       Gaurav Bakshi  Rasika Dugal      Vivek Ghamande   \n",
       "2     NaN   NaN  Soumyajit Majumdar  Sayani Gupta   Plabita Borthakur   \n",
       "3     4.4    35          Ovais Khan       Prateik          Ishita Raj   \n",
       "4     NaN   NaN        Amol Palekar  Rajat Kapoor  Rituparna Sengupta   \n",
       "\n",
       "           Actor 3  \n",
       "0  Rajendra Bhatia  \n",
       "1    Arvind Jangid  \n",
       "2       Roy Angana  \n",
       "3  Siddhant Kapoor  \n",
       "4      Antara Mali  "
      ]
     },
     "execution_count": 2,
     "metadata": {},
     "output_type": "execute_result"
    }
   ],
   "source": [
    "# Read the dataset\n",
    "df = pd.read_csv('C:/Users/yomna/codsoft/IMDbMovieRating/Dataset/IMDbMovies.csv', encoding='latin-1')\n",
    "df.head()"
   ]
  },
  {
   "cell_type": "code",
   "execution_count": 3,
   "id": "33282470",
   "metadata": {},
   "outputs": [
    {
     "data": {
      "text/plain": [
       "(15509, 10)"
      ]
     },
     "execution_count": 3,
     "metadata": {},
     "output_type": "execute_result"
    }
   ],
   "source": [
    "# Understanding the dataset through looking at the dataset's shape, datatypes, nulls, Summary Statistics and more\n",
    "df.shape"
   ]
  },
  {
   "cell_type": "code",
   "execution_count": 4,
   "id": "6becf3e0",
   "metadata": {},
   "outputs": [
    {
     "data": {
      "text/html": [
       "<div>\n",
       "<style scoped>\n",
       "    .dataframe tbody tr th:only-of-type {\n",
       "        vertical-align: middle;\n",
       "    }\n",
       "\n",
       "    .dataframe tbody tr th {\n",
       "        vertical-align: top;\n",
       "    }\n",
       "\n",
       "    .dataframe thead th {\n",
       "        text-align: right;\n",
       "    }\n",
       "</style>\n",
       "<table border=\"1\" class=\"dataframe\">\n",
       "  <thead>\n",
       "    <tr style=\"text-align: right;\">\n",
       "      <th></th>\n",
       "      <th>Rating</th>\n",
       "    </tr>\n",
       "  </thead>\n",
       "  <tbody>\n",
       "    <tr>\n",
       "      <th>count</th>\n",
       "      <td>7919.000000</td>\n",
       "    </tr>\n",
       "    <tr>\n",
       "      <th>mean</th>\n",
       "      <td>5.841621</td>\n",
       "    </tr>\n",
       "    <tr>\n",
       "      <th>std</th>\n",
       "      <td>1.381777</td>\n",
       "    </tr>\n",
       "    <tr>\n",
       "      <th>min</th>\n",
       "      <td>1.100000</td>\n",
       "    </tr>\n",
       "    <tr>\n",
       "      <th>25%</th>\n",
       "      <td>4.900000</td>\n",
       "    </tr>\n",
       "    <tr>\n",
       "      <th>50%</th>\n",
       "      <td>6.000000</td>\n",
       "    </tr>\n",
       "    <tr>\n",
       "      <th>75%</th>\n",
       "      <td>6.800000</td>\n",
       "    </tr>\n",
       "    <tr>\n",
       "      <th>max</th>\n",
       "      <td>10.000000</td>\n",
       "    </tr>\n",
       "  </tbody>\n",
       "</table>\n",
       "</div>"
      ],
      "text/plain": [
       "            Rating\n",
       "count  7919.000000\n",
       "mean      5.841621\n",
       "std       1.381777\n",
       "min       1.100000\n",
       "25%       4.900000\n",
       "50%       6.000000\n",
       "75%       6.800000\n",
       "max      10.000000"
      ]
     },
     "execution_count": 4,
     "metadata": {},
     "output_type": "execute_result"
    }
   ],
   "source": [
    "# Dataset's summary statistics\n",
    "df.describe()"
   ]
  },
  {
   "cell_type": "code",
   "execution_count": 5,
   "id": "162d43a0",
   "metadata": {},
   "outputs": [
    {
     "name": "stdout",
     "output_type": "stream",
     "text": [
      "<class 'pandas.core.frame.DataFrame'>\n",
      "RangeIndex: 15509 entries, 0 to 15508\n",
      "Data columns (total 10 columns):\n",
      " #   Column    Non-Null Count  Dtype  \n",
      "---  ------    --------------  -----  \n",
      " 0   Name      15509 non-null  object \n",
      " 1   Year      14981 non-null  object \n",
      " 2   Duration  7240 non-null   object \n",
      " 3   Genre     13632 non-null  object \n",
      " 4   Rating    7919 non-null   float64\n",
      " 5   Votes     7920 non-null   object \n",
      " 6   Director  14984 non-null  object \n",
      " 7   Actor 1   13892 non-null  object \n",
      " 8   Actor 2   13125 non-null  object \n",
      " 9   Actor 3   12365 non-null  object \n",
      "dtypes: float64(1), object(9)\n",
      "memory usage: 1.2+ MB\n"
     ]
    }
   ],
   "source": [
    "# Checking each column's datatype\n",
    "df.info()"
   ]
  },
  {
   "cell_type": "code",
   "execution_count": 6,
   "id": "708826dc",
   "metadata": {
    "scrolled": true
   },
   "outputs": [
    {
     "data": {
      "text/plain": [
       "Name         0.00\n",
       "Year         3.40\n",
       "Duration    53.32\n",
       "Genre       12.10\n",
       "Rating      48.94\n",
       "Votes       48.93\n",
       "Director     3.39\n",
       "Actor 1     10.43\n",
       "Actor 2     15.37\n",
       "Actor 3     20.27\n",
       "dtype: float64"
      ]
     },
     "execution_count": 6,
     "metadata": {},
     "output_type": "execute_result"
    }
   ],
   "source": [
    "# Calculating the total number of rows\n",
    "total_rows = df.shape[0]\n",
    "\n",
    "# Calculating the number of missing values per column\n",
    "missing_values = df.isnull().sum()\n",
    "\n",
    "# Calculatung the percentage of missing values\n",
    "percentage_missing = (missing_values / total_rows) * 100\n",
    "percentage_missing =  round(percentage_missing, 2)\n",
    "percentage_missing"
   ]
  },
  {
   "cell_type": "code",
   "execution_count": 7,
   "id": "b61ff27b",
   "metadata": {},
   "outputs": [
    {
     "name": "stdout",
     "output_type": "stream",
     "text": [
      "Number of duplicates: \n",
      " Name        48\n",
      "Year        46\n",
      "Duration    14\n",
      "Genre       36\n",
      "Rating      12\n",
      "Votes       12\n",
      "Director    44\n",
      "Actor 1     38\n",
      "Actor 2     34\n",
      "Actor 3     26\n",
      "dtype: int64 \n",
      "\n",
      "                            Name    Year\n",
      "135         A Ballad of Maladies  (2016)\n",
      "136         A Ballad of Maladies  (2016)\n",
      "585                      Achanak  (1988)\n",
      "586                      Achanak  (1988)\n",
      "953                        Amrit  (1941)\n",
      "954                        Amrit  (1941)\n",
      "1249   Arab Ka Sona - Abu Kaalia  (1979)\n",
      "1250   Arab Ka Sona - Abu Kaalia  (1979)\n",
      "1768                     Balidan  (1992)\n",
      "1769                     Balidan  (1992)\n",
      "2654                      Campus  (2000)\n",
      "2655                      Campus  (2000)\n",
      "4133                        Dost  (1944)\n",
      "4137                        Dost  (1944)\n",
      "4692                     Fighter  (2022)\n",
      "4693                     Fighter  (2022)\n",
      "4722     First Time - Pehli Baar  (2009)\n",
      "4723     First Time - Pehli Baar  (2009)\n",
      "6062            India's Daughter  (2015)\n",
      "6063            India's Daughter  (2015)\n",
      "7342                   Karodpati  (1936)\n",
      "7343                   Karodpati  (1936)\n",
      "7407                      Kathor  (2018)\n",
      "7408                      Kathor  (2018)\n",
      "8070                 Laila Majnu  (1931)\n",
      "8074                 Laila Majnu  (1931)\n",
      "8382                 Luka Chuppi  (2019)\n",
      "8383                 Luka Chuppi  (2019)\n",
      "8727                     Majboor  (1948)\n",
      "8730                     Majboor  (1948)\n",
      "8850                    Manohara  (1954)\n",
      "8851                    Manohara  (1954)\n",
      "9712                     Musafir     NaN\n",
      "9713                     Musafir     NaN\n",
      "10023                      Natth  (2000)\n",
      "10024                      Natth  (2000)\n",
      "12420           Sant Dnyaneshwar  (1940)\n",
      "12421           Sant Dnyaneshwar  (1940)\n",
      "12683                      Seema  (1971)\n",
      "12684                      Seema  (1971)\n",
      "12847                 Shakuntala  (1931)\n",
      "12848                 Shakuntala  (1931)\n",
      "13068                    Shivani  (2019)\n",
      "13069                    Shivani  (2019)\n",
      "13307          Slumdog Karodpati  (2019)\n",
      "13308          Slumdog Karodpati  (2019)\n",
      "14880                     Vikram  (1986)\n",
      "14881                     Vikram  (1986)\n"
     ]
    }
   ],
   "source": [
    "# Checking if there is duplicates\n",
    "duplicates = df[df.duplicated(['Name', 'Year'], keep=False)]\n",
    "\n",
    "if not duplicates.empty:\n",
    "    print(\"Number of duplicates: \\n\",duplicates.count(), \"\\n\")\n",
    "    print(duplicates[['Name', 'Year']])\n",
    "else:\n",
    "    print(\"No duplicates found in 'Name' and 'Year' columns.\")"
   ]
  },
  {
   "cell_type": "markdown",
   "id": "743cc952",
   "metadata": {},
   "source": [
    "## Problems with the dataframe:\n",
    "\n",
    "while exploring the dataframe, we found the following issues:\n",
    "- Some datatypes are not correct according to the data in the column\n",
    "- Missing values in all columns except the column Name\n",
    "- Duplicate rows\n",
    "\n",
    "#### Current datatype:\n",
    "- Name     -   object\n",
    "- Year     -   object\n",
    "- Duration -   object\n",
    "- Genre    -   object\n",
    "- Rating   -   Float\n",
    "- Votes    -   object\n",
    "- Director -   object\n",
    "- Actor 1  -   object\n",
    "- Actor 2  -   object\n",
    "- Actor 3  -   object\n",
    "\n",
    "#### Datatypes will be converted to:\n",
    "- Name     -   object\n",
    "- <b>Year     -   int</b>\n",
    "- <b>Duration -   int</b>\n",
    "- Genre    -   object\n",
    "- Rating   -   Float\n",
    "- <b>Votes    -   int</b>\n",
    "- Director -   object\n",
    "- Actor 1  -   object\n",
    "- Actor 2  -   object\n",
    "- Actor 3  -   object\n",
    "\n",
    "#### Missing value percentage per columns:\n",
    "- Name         0.00%\n",
    "- Year         3.40%\n",
    "- Duration    53.32%\n",
    "- Genre       12.10%\n",
    "- Rating      48.94%\n",
    "- Votes       48.93%\n",
    "- Director     3.39%\n",
    "- Actor 1     10.43%\n",
    "- Actor 2     15.37%\n",
    "- Actor 3     20.27%\n",
    "\n",
    "#### How missing values well be handled per column : \n",
    "- Year     -   3.40%   - Drop the rows\n",
    "- Duration -   53.32%  - Replace with Mean \n",
    "- Genre    -   12.10%  - Drop the rows\n",
    "- Rating   -   48.94%  - Replace wit Mean \n",
    "- Votes    -   48.93%  - Replace with 0 \n",
    "- Director -   3.39%   - Drop the rows\n",
    "- Actor 1  -   10.43%  - Drop the rows \n",
    "- Actor 2  -   15.37%  - Drop the rows \n",
    "- Actor 3  -   20.27%  - Drop the rows \n",
    "\n",
    "#### Duplicates\n",
    "Each duplicate will be dropped so that each column will not be repeated twice"
   ]
  },
  {
   "cell_type": "code",
   "execution_count": 8,
   "id": "2f6e621e",
   "metadata": {},
   "outputs": [
    {
     "name": "stdout",
     "output_type": "stream",
     "text": [
      "number of Null values in column Duration = 0\n"
     ]
    },
    {
     "data": {
      "text/plain": [
       "0        128.126519\n",
       "1        109.000000\n",
       "2         90.000000\n",
       "3        110.000000\n",
       "4        105.000000\n",
       "            ...    \n",
       "15504    128.126519\n",
       "15505    129.000000\n",
       "15506    128.126519\n",
       "15507    128.126519\n",
       "15508    130.000000\n",
       "Name: Duration, Length: 15509, dtype: float64"
      ]
     },
     "execution_count": 8,
     "metadata": {},
     "output_type": "execute_result"
    }
   ],
   "source": [
    "# Duration - 8269 - Replace with Mean\n",
    "\n",
    "# Removing characters \n",
    "df['Duration'] = df['Duration'].astype(str).str.extract('(\\d+)').replace('', np.nan)\n",
    "\n",
    "# Replacing missing values with value of -1\n",
    "df['Duration'].fillna(-1, inplace=True)\n",
    "\n",
    "# Converting 'Duration' to integer \n",
    "df['Duration'] = df['Duration'].astype(int)\n",
    "\n",
    "# Replacing sentinel value back with NaN\n",
    "df['Duration'].replace(-1, pd.NA, inplace=True)\n",
    "\n",
    "# Calculating the Mean\n",
    "mean_Duration = df['Duration'].mean()\n",
    "\n",
    "# Replacing missing values with the calculated mean\n",
    "df['Duration'].fillna(mean_Duration, inplace=True)\n",
    "\n",
    "# Checking for null values \n",
    "null_num_Duration = df['Duration'].isna().sum()\n",
    "print('number of Null values in column Duration =', null_num_Duration) # No more missing values\n",
    "\n",
    "# Printing values\n",
    "df['Duration']"
   ]
  },
  {
   "cell_type": "code",
   "execution_count": 9,
   "id": "f6059200",
   "metadata": {},
   "outputs": [
    {
     "name": "stdout",
     "output_type": "stream",
     "text": [
      "number of Null values in column Rating = 0\n"
     ]
    },
    {
     "data": {
      "text/plain": [
       "0        5.841621\n",
       "1        7.000000\n",
       "2        5.841621\n",
       "3        4.400000\n",
       "4        5.841621\n",
       "           ...   \n",
       "15504    4.600000\n",
       "15505    4.500000\n",
       "15506    5.841621\n",
       "15507    5.841621\n",
       "15508    6.200000\n",
       "Name: Rating, Length: 15509, dtype: float64"
      ]
     },
     "execution_count": 9,
     "metadata": {},
     "output_type": "execute_result"
    }
   ],
   "source": [
    "# Rating - 7590 - Replace wit Mean\n",
    "\n",
    "# Replacing missing values with value of -1\n",
    "df['Rating'].fillna(-1, inplace=True)\n",
    "\n",
    "# Replacing sentinel value back with NaN\n",
    "df['Rating'].replace(-1, pd.NA, inplace=True)\n",
    "\n",
    "# Calculating the Mean\n",
    "mean_Rating = df['Rating'].mean()\n",
    "\n",
    "# Replacing missing values with the calculated mean\n",
    "df['Rating'].fillna(mean_Rating, inplace=True)\n",
    "\n",
    "# Checking for null values in the column \n",
    "null_num_Rating = df['Rating'].isna().sum()\n",
    "print('number of Null values in column Rating =',null_num_Rating) # No more missing values \n",
    "\n",
    "# Printing values\n",
    "df['Rating']"
   ]
  },
  {
   "cell_type": "code",
   "execution_count": 10,
   "id": "8d1d1c15",
   "metadata": {},
   "outputs": [
    {
     "name": "stdout",
     "output_type": "stream",
     "text": [
      "number of Null values in column Votes = 0\n"
     ]
    },
    {
     "data": {
      "text/plain": [
       "0          0\n",
       "1          8\n",
       "2          0\n",
       "3         35\n",
       "4          0\n",
       "        ... \n",
       "15504     11\n",
       "15505    655\n",
       "15506      0\n",
       "15507      0\n",
       "15508     20\n",
       "Name: Votes, Length: 15509, dtype: int32"
      ]
     },
     "execution_count": 10,
     "metadata": {},
     "output_type": "execute_result"
    }
   ],
   "source": [
    "# Votes - 7589 - Replace with 0\n",
    "df['Votes'].fillna(0.0, inplace=True)\n",
    "\n",
    "# Removing characters  \n",
    "df['Votes'] = df['Votes'].astype(str).str.extract('(\\d+)').replace('', np.nan)\n",
    "\n",
    "# Converting 'Votes' to integer \n",
    "df['Votes'] = df['Votes'].astype(int)\n",
    "\n",
    "# Checking for null values in the column \n",
    "null_num_Votes = df['Votes'].isna().sum()\n",
    "print('number of Null values in column Votes =',null_num_Votes) # No more missing values \n",
    "\n",
    "# Printing values\n",
    "df['Votes']"
   ]
  },
  {
   "cell_type": "code",
   "execution_count": 11,
   "id": "d1984cb0",
   "metadata": {},
   "outputs": [
    {
     "data": {
      "text/plain": [
       "Name        0.0\n",
       "Year        0.0\n",
       "Duration    0.0\n",
       "Genre       0.0\n",
       "Rating      0.0\n",
       "Votes       0.0\n",
       "Director    0.0\n",
       "Actor 1     0.0\n",
       "Actor 2     0.0\n",
       "Actor 3     0.0\n",
       "dtype: float64"
      ]
     },
     "execution_count": 11,
     "metadata": {},
     "output_type": "execute_result"
    }
   ],
   "source": [
    "# Dropping the missing rows for other columns\n",
    "\n",
    "''' \n",
    "Year      -  3.40%   -  Drop the rows\n",
    "Genre     -  12.10%  -  Drop the rows\n",
    "Director  -  3.39%   -  Drop the rows\n",
    "Actor 1   -  10.43%  -  Drop the rows\n",
    "Actor 2   -  15.37%  -  Drop the rows\n",
    "Actor 3   -  20.27%  -  Drop the rows\n",
    "'''\n",
    "\n",
    "df = df.dropna(subset=['Year'])\n",
    "df = df.dropna(subset=['Genre'])\n",
    "df = df.dropna(subset=['Director'])\n",
    "df = df.dropna(subset=['Actor 1'])\n",
    "df = df.dropna(subset=['Actor 2'])\n",
    "df = df.dropna(subset=['Actor 3'])\n",
    "\n",
    "# Calculating the total number of rows\n",
    "total_rows = df.shape[0]\n",
    "\n",
    "# Calculating the number of missing values per column\n",
    "missing_values = df.isnull().sum()\n",
    "\n",
    "# Calculatung the percentage of missing values\n",
    "percentage_missing = (missing_values / total_rows) * 100\n",
    "percentage_missing =  round(percentage_missing, 2)\n",
    "percentage_missing\n"
   ]
  },
  {
   "cell_type": "code",
   "execution_count": 12,
   "id": "a931f1c2",
   "metadata": {},
   "outputs": [
    {
     "data": {
      "text/plain": [
       "1        2019\n",
       "2        2021\n",
       "3        2019\n",
       "4        2010\n",
       "5        1997\n",
       "         ... \n",
       "15502    1979\n",
       "15503    1989\n",
       "15504    1988\n",
       "15505    1999\n",
       "15508    1998\n",
       "Name: Year, Length: 11086, dtype: int32"
      ]
     },
     "execution_count": 12,
     "metadata": {},
     "output_type": "execute_result"
    }
   ],
   "source": [
    "# Converting 'Year' to int\n",
    "df['Year'] = df['Year'].str.extract(r'(\\d{4})')\n",
    "df['Year'] = df['Year'].astype(int)\n",
    "df['Year']"
   ]
  },
  {
   "cell_type": "code",
   "execution_count": 13,
   "id": "c6e5ab25",
   "metadata": {},
   "outputs": [
    {
     "name": "stdout",
     "output_type": "stream",
     "text": [
      "<class 'pandas.core.frame.DataFrame'>\n",
      "Index: 11086 entries, 1 to 15508\n",
      "Data columns (total 10 columns):\n",
      " #   Column    Non-Null Count  Dtype  \n",
      "---  ------    --------------  -----  \n",
      " 0   Name      11086 non-null  object \n",
      " 1   Year      11086 non-null  int32  \n",
      " 2   Duration  11086 non-null  float64\n",
      " 3   Genre     11086 non-null  object \n",
      " 4   Rating    11086 non-null  float64\n",
      " 5   Votes     11086 non-null  int32  \n",
      " 6   Director  11086 non-null  object \n",
      " 7   Actor 1   11086 non-null  object \n",
      " 8   Actor 2   11086 non-null  object \n",
      " 9   Actor 3   11086 non-null  object \n",
      "dtypes: float64(2), int32(2), object(6)\n",
      "memory usage: 866.1+ KB\n"
     ]
    }
   ],
   "source": [
    "# Checking datatypes after converting \n",
    "df.info()"
   ]
  },
  {
   "cell_type": "code",
   "execution_count": 14,
   "id": "03dae2be",
   "metadata": {},
   "outputs": [
    {
     "name": "stdout",
     "output_type": "stream",
     "text": [
      "No duplicates found in 'Name' and 'Year' columns.\n"
     ]
    }
   ],
   "source": [
    "# Dropping Duplicate rows\n",
    "df.drop_duplicates(subset=['Name', 'Year'], inplace=True)\n",
    "\n",
    "# Checking if there is anymore duplicates\n",
    "duplicates = df[df.duplicated(['Name', 'Year'], keep=False)]\n",
    "\n",
    "if not duplicates.empty:\n",
    "    print(\"Number of duplicates: \\n\",duplicates.count(), \"\\n\")\n",
    "    print(duplicates[['Name', 'Year']])\n",
    "else:\n",
    "    print(\"No duplicates found in 'Name' and 'Year' columns.\")"
   ]
  },
  {
   "cell_type": "code",
   "execution_count": 17,
   "id": "495062c0",
   "metadata": {},
   "outputs": [],
   "source": [
    "# Saving the cleaned version of the dataset\n",
    "df.to_csv('C:/Users/yomna/codsoft/IMDbMovieRating/Dataset/Movie_cleaned_data.csv', index=False)"
   ]
  },
  {
   "cell_type": "markdown",
   "id": "be3d5e1f",
   "metadata": {},
   "source": [
    "## Forming Hypotheses"
   ]
  },
  {
   "cell_type": "code",
   "execution_count": 18,
   "id": "81d89951",
   "metadata": {},
   "outputs": [
    {
     "data": {
      "image/png": "[encoded data removed]",
      "text/plain": [
       "<Figure size 1000x600 with 1 Axes>"
      ]
     },
     "metadata": {},
     "output_type": "display_data"
    }
   ],
   "source": [
    "# Hypothesis one:there is a specific year that stands out with exceptionally high ratings\n",
    "\n",
    "# Group by year\n",
    "plt.figure(figsize=(10, 6))\n",
    "df_grouped = df.groupby(df['Year'])['Rating'].mean()\n",
    "plt.bar(df_grouped.index, df_grouped.values, color='lightblue', alpha=0.7, edgecolor='black')\n",
    "plt.xlabel('Year')\n",
    "plt.ylabel('Rating')\n",
    "plt.title('Year vs. Rating')\n",
    "plt.show()"
   ]
  },
  {
   "cell_type": "code",
   "execution_count": 19,
   "id": "96fb4819",
   "metadata": {},
   "outputs": [
    {
     "data": {
      "image/png": "[encoded data removed]",
      "text/plain": [
       "<Figure size 1000x600 with 1 Axes>"
      ]
     },
     "metadata": {},
     "output_type": "display_data"
    }
   ],
   "source": [
    "# Hypothesis Two: Movies by esteemed Directors tends to have high ratings\n",
    "# Group by director and with the mean of their ratings\n",
    "director_ratings = df.groupby('Director')['Rating'].mean()\n",
    "\n",
    "# Arranging directors by mean rating\n",
    "directors_sorted_by_rating = director_ratings.sort_values(ascending=False)\n",
    "\n",
    "# Selecting directors with the highest mean ratings\n",
    "top_directors = directors_sorted_by_rating.head(10) \n",
    "\n",
    "# visualizing results\n",
    "plt.figure(figsize=(10,6))\n",
    "plt.bar(top_directors.index, top_directors.values, color='pink')\n",
    "plt.xlabel('Directors')\n",
    "plt.ylabel('Mean of Ratings')\n",
    "plt.title('Top 10 Directors with the highest Ratings')\n",
    "plt.xticks(rotation=45)\n",
    "plt.show()"
   ]
  },
  {
   "cell_type": "code",
   "execution_count": 20,
   "id": "41f6cc77",
   "metadata": {},
   "outputs": [
    {
     "data": {
      "image/png": "[encoded data removed]",
      "text/plain": [
       "<Figure size 1000x600 with 1 Axes>"
      ]
     },
     "metadata": {},
     "output_type": "display_data"
    }
   ],
   "source": [
    "# Hypothesis Three: Duration has an Influence on Ratings\n",
    "df_grouped = df.groupby(df['Duration'])['Rating'].mean()\n",
    "plt.figure(figsize=(10, 6))\n",
    "plt.scatter(df_grouped.index, df_grouped.values, color='blue', alpha=0.7)\n",
    "plt.xlabel('Duration')\n",
    "plt.ylabel('Rating')\n",
    "plt.title('Duration vs. Rating')\n",
    "plt.show()"
   ]
  },
  {
   "cell_type": "code",
   "execution_count": 21,
   "id": "435b4ef3",
   "metadata": {},
   "outputs": [
    {
     "name": "stdout",
     "output_type": "stream",
     "text": [
      "Top 10 Actors with the highest ratings from Actor 1\n",
      "Ahaan Jha            10.0\n",
      "Raj Banerjee          9.7\n",
      "Nishi Neha Mishra     9.4\n",
      "Dharmendra Ahir       9.4\n",
      "Vaibhav Khisti        9.4\n",
      "Tejaswini Manogna     9.3\n",
      "Amrit                 9.3\n",
      "Prashant Chaubey      9.3\n",
      "Vishwa Bhanu          9.3\n",
      "Vijay Mahar           9.3\n",
      "Name: Rating, dtype: float64 \n",
      "\n",
      "Top 10 Actors with the highest ratings from Actor 2\n",
      "Mahesh Narayan     10.0\n",
      "Emon Chatterjee     9.7\n",
      "Ashfaq              9.6\n",
      "Awanish Kotnal      9.4\n",
      "Pankaj Kamal        9.4\n",
      "Sangam Shukla       9.3\n",
      "R.S. Bhist          9.3\n",
      "Laj Badlani         9.3\n",
      "Dimple Chauhan      9.3\n",
      "Triyug Mantri       9.3\n",
      "Name: Rating, dtype: float64 \n",
      "\n",
      "Top 10 Actors with the highest ratings from Actor 3\n",
      "Rajasree Rajakumari    10.0\n",
      "Purshottam Mulani       9.7\n",
      "Fasih Choudhry          9.6\n",
      "Rakhi Mansha            9.4\n",
      "Akash Kumar             9.4\n",
      "Amitabh Gupta           9.3\n",
      "Paras Zutshi            9.3\n",
      "Chaho Bhara             9.3\n",
      "Sapna Das               9.3\n",
      "K.N. Dixit              9.3\n",
      "Name: Rating, dtype: float64 \n",
      "\n"
     ]
    }
   ],
   "source": [
    "# Hypothesis Four: Movies by esteemed actors tends to have high ratings\n",
    "# Checking Actor 1 \n",
    "df_grouped_actor1 = df.groupby(df['Actor 1'])['Rating'].mean()\n",
    "\n",
    "# Arranging Actor 1 by mean rating\n",
    "actor1_sorted_by_rating = df_grouped_actor1.sort_values(ascending=False)\n",
    "\n",
    "# Selecting  Actor 1 with the highest mean ratings\n",
    "top_actor1 = actor1_sorted_by_rating.head(10) \n",
    "\n",
    "print('Top 10 Actors with the highest ratings from',top_actor1, '\\n')\n",
    "''''''''''''''''''''''''''''''''''''''''''''''''''\n",
    "\n",
    "# Checking Actor 2 \n",
    "df_grouped_actor2 = df.groupby(df['Actor 2'])['Rating'].mean()\n",
    "\n",
    "# Arranging Actor 2 by mean rating\n",
    "actor2_sorted_by_rating = df_grouped_actor2.sort_values(ascending=False)\n",
    "\n",
    "# Selecting Actor 2 with the highest mean ratings\n",
    "top_actor2 = actor2_sorted_by_rating.head(10) \n",
    "print('Top 10 Actors with the highest ratings from',top_actor2, '\\n')\n",
    "\n",
    "''''''''''''''''''''''''''''''''''''''''''''''''''\n",
    "# Checking Actor 3\n",
    "df_grouped_actor3 = df.groupby(df['Actor 3'])['Rating'].mean()\n",
    "\n",
    "# Arranging Actor 3 by mean rating\n",
    "actor3_sorted_by_rating = df_grouped_actor3.sort_values(ascending=False)\n",
    "\n",
    "# Selecting  Actor 3 with the highest mean ratings\n",
    "top_actor3 = actor3_sorted_by_rating.head(10) \n",
    "\n",
    "print('Top 10 Actors with the highest ratings from',top_actor3 , '\\n')"
   ]
  },
  {
   "cell_type": "code",
   "execution_count": 22,
   "id": "2caa5f6a",
   "metadata": {},
   "outputs": [
    {
     "data": {
      "image/png": "[encoded data removed]",
      "text/plain": [
       "<Figure size 1000x600 with 1 Axes>"
      ]
     },
     "metadata": {},
     "output_type": "display_data"
    }
   ],
   "source": [
    "# Hypothesis Five: there's specific movies that stand out with exceptionally high ratings\n",
    "df_name = df.groupby(df['Name'])['Rating'].mean()\n",
    "\n",
    "# Arranging name by mean rating\n",
    "df_name_by_rating = df_name.sort_values(ascending=False)\n",
    "\n",
    "# Selecting movies with the highest mean ratings\n",
    "top_movies = df_name_by_rating.head(10) \n",
    "\n",
    "# visualizing results\n",
    "plt.figure(figsize=(10,6))\n",
    "plt.bar(top_movies.index, top_movies.values, color='pink')\n",
    "plt.xlabel('Movie')\n",
    "plt.ylabel('Mean of Ratings')\n",
    "plt.title('Top 10 Movies with the highest Ratings')\n",
    "plt.xticks(rotation=15)\n",
    "plt.show()"
   ]
  },
  {
   "cell_type": "markdown",
   "id": "a1d0d41d",
   "metadata": {},
   "source": [
    "### In conclusion, the analysis reveals several key findings\n",
    "\n",
    "<b>Yearly Trends in Ratings</b>\n",
    "- The analysis of ratings across different years uncovered a consistent pattern. While there were fluctuations, no singular year stood out with significantly higher ratings.\n",
    "\n",
    "<b>Director's Impact on Ratings</b>\n",
    "- The examination of directors based on their mean ratings showcased a select group of directors who consistently produced movies with remarkable ratings. These directors demonstrated a consistent commitment to quality filmmaking.\n",
    "\n",
    "<b>Duration's Influence on Ratings</b>\n",
    "- We observed a moderate positive correlation between movie duration and ratings. This suggests that, on average, longer movies tend to receive higher ratings. However, outliers were present, indicating that duration alone is not the sole determinant of a movie's success.\n",
    "\n",
    "<b>Lead Actors and Audience Reception</b>\n",
    "- Analyzing the lead actors (Actor 1, Actor 2, and Actor 3) revealed interesting patterns. there were instances where specific actors were associated with higher ratings.\n",
    "\n",
    "<b>Notable Movies with Exceptional Ratings</b>\n",
    "- We identified specific movies that distinguished themselves with exceptionally high ratings."
   ]
  }
 ],
 "metadata": {
  "kernelspec": {
   "display_name": "Python 3 (ipykernel)",
   "language": "python",
   "name": "python3"
  },
  "language_info": {
   "codemirror_mode": {
    "name": "ipython",
    "version": 3
   },
   "file_extension": ".py",
   "mimetype": "text/x-python",
   "name": "python",
   "nbconvert_exporter": "python",
   "pygments_lexer": "ipython3",
   "version": "3.11.0"
  }
 },
 "nbformat": 4,
 "nbformat_minor": 5
}
